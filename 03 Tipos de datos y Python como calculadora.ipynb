{
 "cells": [
  {
   "attachments": {},
   "cell_type": "markdown",
   "metadata": {},
   "source": [
    "<center><img src=\" data:image/png;base64,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\" /></center>\n",
    "\n",
    "# <center>Ingeniería Informática<br>Programación Funcional</center>\n",
    "\n",
    "<center>\n",
    "<b>Unidad:</b> 01 Introducción <br>\n",
    "<b>Tema:</b> Variables, expresiones y sentencias\n",
    "</center>\n",
    "\n",
    "<center>Referencia: El siguiente notebook fué construido tomado del 2do capitulo del libro *Python para todos* de *Charles R. Severance*</center>\n",
    "\n",
    "----"
   ]
  },
  {
   "cell_type": "markdown",
   "metadata": {},
   "source": [
    "# Variables, expresiones y sentencias\n",
    "\n",
    "## Valores y Tipos\n",
    "\n",
    "Un valor es una de las cosas básicas que utiliza un programa, como una **letra o un número**. Los valores que hemos visto hasta ahora han sido `1, 2, y “¡Hola, mundo!”`. \n",
    "\n",
    "Esos valores pertenecen a tipos diferentes: `2` es un **entero (`int`)**, y “¡Hola, mundo!” es una **cadena (`string`)**, que recibe ese nombre porque contiene una “cadena” de letras. Usted (y el intérprete) pueden identificar **las cadenas porque van encerradas entre $\\underline{comillas}$**.\n",
    "\n",
    "La sentencia `print` también funciona con enteros. Vamos a usar el comando python para iniciar el intérprete."
   ]
  },
  {
   "cell_type": "code",
   "execution_count": 44,
   "metadata": {
    "scrolled": true
   },
   "outputs": [
    {
     "name": "stdout",
     "output_type": "stream",
     "text": [
      "4\n"
     ]
    }
   ],
   "source": [
    "print(4)"
   ]
  },
  {
   "cell_type": "markdown",
   "metadata": {},
   "source": [
    "Si no estás seguro de qué tipo de valor estás manejando, el intérprete te lo puede decir."
   ]
  },
  {
   "cell_type": "code",
   "execution_count": 41,
   "metadata": {},
   "outputs": [
    {
     "name": "stdout",
     "output_type": "stream",
     "text": [
      "<class 'str'>\n",
      "<class 'int'>\n"
     ]
    }
   ],
   "source": [
    "print(type('¡Hola, mundo!'))\n",
    "print(type(17))"
   ]
  },
  {
   "cell_type": "markdown",
   "metadata": {},
   "source": [
    "No es sorprendente que las cadenas pertenezcan al tipo ` str ` y los enteros pertenezcan al tipo ` int `. De manera menos obvia, los números con un *punto decimal* pertenecen a un tipo llamado ` float `, porque estos números se representan en un formato llamado *punto flotante*."
   ]
  },
  {
   "cell_type": "code",
   "execution_count": 42,
   "metadata": {},
   "outputs": [
    {
     "data": {
      "text/plain": [
       "float"
      ]
     },
     "execution_count": 42,
     "metadata": {},
     "output_type": "execute_result"
    }
   ],
   "source": [
    "type(3.2)"
   ]
  },
  {
   "cell_type": "markdown",
   "metadata": {},
   "source": [
    "¿Qué ocurre con valores como *“17”* y *“3.2”*? Parecen números, pero van entre comillas como las cadenas."
   ]
  },
  {
   "cell_type": "code",
   "execution_count": 43,
   "metadata": {},
   "outputs": [
    {
     "name": "stdout",
     "output_type": "stream",
     "text": [
      "<class 'str'>\n",
      "<class 'str'>\n"
     ]
    }
   ],
   "source": [
    "print(type('17'))\n",
    "print(type('3.2'))"
   ]
  },
  {
   "cell_type": "markdown",
   "metadata": {},
   "source": [
    "Son cadenas.\n",
    "\n",
    "Cuando escribes un entero grande, puede que te sientas tentado a usar comas o\n",
    "puntos para separarlo en grupos de tres dígitos, como en 1,000,000. Eso no es\n",
    "un entero válido en Python, pero en cambio sí que resulta válido algo como:"
   ]
  },
  {
   "cell_type": "code",
   "execution_count": 12,
   "metadata": {},
   "outputs": [
    {
     "name": "stdout",
     "output_type": "stream",
     "text": [
      "1 0 0\n"
     ]
    }
   ],
   "source": [
    "print(1,000,000)"
   ]
  },
  {
   "cell_type": "code",
   "execution_count": 46,
   "metadata": {},
   "outputs": [
    {
     "name": "stdout",
     "output_type": "stream",
     "text": [
      "1000000\n"
     ]
    }
   ],
   "source": [
    "print(1000000)"
   ]
  },
  {
   "cell_type": "markdown",
   "metadata": {},
   "source": [
    "Bien, ha funcionado. ¡Pero eso no era lo que esperábamos!. Python interpreta `1,000,000` como una secuencia de enteros separados por comas, así que lo imprime con espacios en medio.\n",
    "\n",
    "Éste es el primer ejemplo que hemos visto de un *error semántico*: el código funciona sin producir ningún mensaje de error, pero no hace su trabajo *“correctamente”*."
   ]
  },
  {
   "cell_type": "markdown",
   "metadata": {},
   "source": [
    "## Variables"
   ]
  },
  {
   "cell_type": "markdown",
   "metadata": {},
   "source": [
    "Una de las características más potentes de un lenguaje de programación es la capacidad de manipular *variables*. **Una variable es un nombre que se refiere a un valor**.\n",
    "\n",
    "Una *sentencia* de asignación crea variables nuevas y las da valores:"
   ]
  },
  {
   "cell_type": "code",
   "execution_count": 47,
   "metadata": {},
   "outputs": [],
   "source": [
    "mensaje = 'Y ahora algo completamente diferente'\n",
    "n = 17\n",
    "pi = 3.1415926535897931"
   ]
  },
  {
   "cell_type": "markdown",
   "metadata": {},
   "source": [
    "Este ejemplo hace tres asignaciones.\n",
    "* La primera asigna una cadena a una variable nueva llamada `mensaje`\n",
    "* la segunda asigna el entero `17` a `n`\n",
    "* la tercera asigna el valor (aproximado) de `π` a `pi`.\n",
    "\n",
    "Para mostrar el valor de una *variable*, se puede usar la sentencia `print`:"
   ]
  },
  {
   "cell_type": "code",
   "execution_count": 14,
   "metadata": {},
   "outputs": [
    {
     "name": "stdout",
     "output_type": "stream",
     "text": [
      "17\n",
      "3.141592653589793\n"
     ]
    }
   ],
   "source": [
    "print(n)\n",
    "print(pi)"
   ]
  },
  {
   "cell_type": "markdown",
   "metadata": {},
   "source": [
    "El tipo de una variable es el tipo del valor al que se refiere."
   ]
  },
  {
   "cell_type": "code",
   "execution_count": 16,
   "metadata": {
    "scrolled": true
   },
   "outputs": [
    {
     "name": "stdout",
     "output_type": "stream",
     "text": [
      "<class 'str'>\n",
      "<class 'int'>\n",
      "<class 'float'>\n"
     ]
    }
   ],
   "source": [
    "print(type(mensaje))\n",
    "print(type(n))\n",
    "print(type(pi))"
   ]
  },
  {
   "cell_type": "code",
   "execution_count": 51,
   "metadata": {},
   "outputs": [
    {
     "name": "stdout",
     "output_type": "stream",
     "text": [
      "<class 'str'>\n",
      "<class 'int'>\n",
      "<class 'float'>\n"
     ]
    }
   ],
   "source": [
    "print(type(mensaje))\n",
    "print(type(n))\n",
    "print(type(pi))"
   ]
  },
  {
   "attachments": {},
   "cell_type": "markdown",
   "metadata": {},
   "source": [
    "## Nombres de variables y palabras claves\n",
    "\n",
    "Los programadores generalmente eligen nombres para sus variables que tengan sentido y documenten para qué se usa esa variable.\n",
    "\n",
    "* Los nombres de las variables pueden ser arbitrariamente largos.\n",
    "* Pueden contener tanto letras como números, *pero no pueden comenzar con un número*.\n",
    "* Se pueden usar letras mayúsculas, pero es buena idea comenzar los nombres de las variables con una letras minúscula\n",
    "* El carácter guión-bajo (_) puede utilizarse en un nombre. Ejemplo: `mi_nombre` o `velocidad_de_golondrina_sin_carga`\n",
    "\n",
    "Si se le da a una variable un nombre no permitido, se obtiene un error de sintaxis:\n",
    "\n",
    "```\n",
    "76trombones = 'gran desfile'\n",
    "more@ = 1000000\n",
    "class = 'Teorema avanzado de Zymurgy'\n",
    "```\n",
    "<img src=\" data:image/png;base64,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\" />\n"
   ]
  },
  {
   "cell_type": "code",
   "execution_count": 55,
   "metadata": {},
   "outputs": [],
   "source": [
    "mensaje_de_salida = 'Teorema avanzado de Zymurgy'"
   ]
  },
  {
   "cell_type": "markdown",
   "metadata": {},
   "source": [
    "## Sentencias\n",
    "\n",
    "Una sentencia es una unidad de código que el intérprete de Python puede ejecutar. Hemos visto hasta ahora dos tipos de sentencia: `print` y las *asignaciones*. \n",
    "\n",
    "Un script normalmente contiene una secuencia de sentencias."
   ]
  },
  {
   "cell_type": "code",
   "execution_count": 19,
   "metadata": {},
   "outputs": [
    {
     "name": "stdout",
     "output_type": "stream",
     "text": [
      "1\n",
      "2\n"
     ]
    }
   ],
   "source": [
    "print(1)\n",
    "x = 2\n",
    "print(x)"
   ]
  },
  {
   "cell_type": "markdown",
   "metadata": {},
   "source": [
    "## Operadores y operandos\n",
    "\n",
    "Los *operadores* son símbolos especiales que representan cálculos, como la suma o la multiplicación. Los valores a los cuales se aplican esos operadores reciben el nombre de *operandos*.\n",
    "\n",
    "| Operador | Nombre |\n",
    "| --- | --- |\n",
    "| $+$ | Suma |\n",
    "| $-$ | Resta |\n",
    "| $*$ | Multiplicación |\n",
    "| $/$ | División |\n",
    "| $**$ | Potencia |\n",
    "| $//$ | División Entera |\n",
    "| % | Modulo | \n",
    "\n",
    "\n",
    "```\n",
    "20+32\n",
    "hour-1\n",
    "hour*60+minute\n",
    "minute/60\n",
    "5**2\n",
    "(5+9)*(15-7)\n",
    "```"
   ]
  },
  {
   "cell_type": "code",
   "execution_count": 22,
   "metadata": {},
   "outputs": [
    {
     "name": "stdout",
     "output_type": "stream",
     "text": [
      "0.9833333333333333\n",
      "0\n"
     ]
    }
   ],
   "source": [
    "minute = 59\n",
    "print(minute/60)\n",
    "\n",
    "minute = 59\n",
    "print(minute//60)"
   ]
  },
  {
   "cell_type": "code",
   "execution_count": 57,
   "metadata": {},
   "outputs": [
    {
     "data": {
      "text/plain": [
       "1"
      ]
     },
     "execution_count": 57,
     "metadata": {},
     "output_type": "execute_result"
    }
   ],
   "source": [
    "3//2"
   ]
  },
  {
   "cell_type": "markdown",
   "metadata": {},
   "source": [
    "## Expresiones\n",
    "\n",
    "Una expresión es una combinación de valores, variables y operadores.\n",
    "\n",
    "**Ejercicio 1: Escribe las siguientes sentencias en el intérprete de Python para comprobar qué hacen**:\n",
    "\n",
    "```\n",
    "5\n",
    "x = 5\n",
    "x + 1\n",
    "```"
   ]
  },
  {
   "cell_type": "code",
   "execution_count": 24,
   "metadata": {},
   "outputs": [],
   "source": [
    "#Ejercicio 1: Escribe las siguientes sentencias en el intérprete de Python para comprobar qué hacen\n",
    "#Solución:\n",
    "\n"
   ]
  },
  {
   "cell_type": "markdown",
   "metadata": {},
   "source": [
    "## Jerarquía de Operaciones\n",
    "\n",
    "1. Los **Paréntesis** tienen orden superior y pueden usarse para forzar a que una expresión sea evaluada en el orden que se quiera.\n",
    "2. La **Exponenciación** (elevar un número a una potencia) tiene el siguiente nivel más alto de precedencia\n",
    "3. La **Multiplicación** y la **División** tienen la misma precedencia\n",
    "4. La **Suma** y la **Resta** tienen la misma precedencia\n",
    "\n",
    "Los operadores con igual precedencia son evaluados de izquierda a derecha.\n",
    "\n",
    "En caso de duda, añade siempre paréntesis a tus expresiones para asegurarte de que las operaciones se realizan en el orden que tú quieres."
   ]
  },
  {
   "cell_type": "code",
   "execution_count": 26,
   "metadata": {},
   "outputs": [
    {
     "name": "stdout",
     "output_type": "stream",
     "text": [
      "4\n",
      "8\n",
      "3\n",
      "3\n",
      "5\n",
      "8.0\n",
      "1\n"
     ]
    }
   ],
   "source": [
    "#Paréntesis\n",
    "x = 2 * (3-1)\n",
    "print(x)\n",
    "\n",
    "x = (1+1)**(5-2) # 2 ** 3\n",
    "print(x)\n",
    "\n",
    "#Exponencia\n",
    "x = 2**1+1\n",
    "print(x)\n",
    "\n",
    "x = 3*1**3\n",
    "print(x)\n",
    "\n",
    "# Multiplicación, División, Suma y Resta\n",
    "x = 2*3-1   # 6 - 1\n",
    "print(x)\n",
    "\n",
    "x = 6+4/2\n",
    "print(x)\n",
    "\n",
    "x = 5-3-1\n",
    "print(x)"
   ]
  },
  {
   "attachments": {},
   "cell_type": "markdown",
   "metadata": {},
   "source": [
    "## Operador módulo\n",
    "El operador módulo trabaja con enteros y obtiene el residuo de la operación consistente en dividir el primer operando por el segundo.\n",
    "\n",
    "<img src=\" data:image/jpeg;base64,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\" />"
   ]
  },
  {
   "cell_type": "code",
   "execution_count": 28,
   "metadata": {},
   "outputs": [
    {
     "name": "stdout",
     "output_type": "stream",
     "text": [
      "2\n",
      "1\n"
     ]
    }
   ],
   "source": [
    "cociente = 7 // 3\n",
    "print(cociente)\n",
    "\n",
    "residuo = 7 % 3\n",
    "print(residuo)"
   ]
  },
  {
   "cell_type": "markdown",
   "metadata": {},
   "source": [
    "El operador módulo resulta ser sorprendentemente útil. Por ejemplo, puedes comprobar si un número es divisible por otro:\n",
    " \n",
    "*si ` x % y ` es cero,<br>\n",
    "entonces `x` es divisible por `y`*."
   ]
  },
  {
   "cell_type": "markdown",
   "metadata": {},
   "source": [
    "## Operaciones con cadenas\n",
    "El operador `+` funciona con las cadenas, realiza una **concatenación**, que quiere decir que une ambas cadenas, enlazando el final de la primera con el principio de la segunda. Por ejemplo:"
   ]
  },
  {
   "cell_type": "code",
   "execution_count": 30,
   "metadata": {},
   "outputs": [
    {
     "name": "stdout",
     "output_type": "stream",
     "text": [
      "mi primercurso de programación\n",
      "mi primer curso de programación\n"
     ]
    }
   ],
   "source": [
    "cadena1 = 'mi primer'\n",
    "cadena2 = 'curso de programación'\n",
    "print(cadena1 + cadena2)\n",
    "\n",
    "#El primer resultado concatena las dos cadenas sin agregar un espacio\n",
    "cadena1 = 'mi primer'\n",
    "cadena2 = 'curso de programación'\n",
    "print(cadena1 +' '+ cadena2)"
   ]
  },
  {
   "cell_type": "markdown",
   "metadata": {},
   "source": [
    "El operador `*` también trabaja con cadenas multiplicando el contenido de una cadena por un entero. Por ejemplo:"
   ]
  },
  {
   "cell_type": "code",
   "execution_count": 31,
   "metadata": {},
   "outputs": [
    {
     "name": "stdout",
     "output_type": "stream",
     "text": [
      "Test Test Test \n"
     ]
    }
   ],
   "source": [
    "primero = 'Test '\n",
    "segundo = 3\n",
    "print(primero * segundo)"
   ]
  },
  {
   "cell_type": "markdown",
   "metadata": {},
   "source": [
    "## Petición de información al usuario\n",
    "A veces necesitaremos que sea el usuario quien nos proporcione el valor para una variable, a través del teclado. Python proporciona una función interna llamada `input` que recibe la entrada desde el teclado."
   ]
  },
  {
   "cell_type": "code",
   "execution_count": 32,
   "metadata": {},
   "outputs": [
    {
     "name": "stdout",
     "output_type": "stream",
     "text": [
      "silencio\n",
      "silencio\n"
     ]
    }
   ],
   "source": [
    "entrada = input()\n",
    "print(entrada)"
   ]
  },
  {
   "cell_type": "markdown",
   "metadata": {},
   "source": [
    "Antes de recibir cualquier dato desde el usuario, es buena idea escribir un mensaje explicándole qué debe introducir."
   ]
  },
  {
   "cell_type": "code",
   "execution_count": 33,
   "metadata": {},
   "outputs": [
    {
     "name": "stdout",
     "output_type": "stream",
     "text": [
      "¿Cómo te llamas?\n",
      "nestor\n",
      "nestor\n"
     ]
    }
   ],
   "source": [
    "nombre = input('¿Cómo te llamas?\\n')\n",
    "print(nombre)"
   ]
  },
  {
   "cell_type": "markdown",
   "metadata": {},
   "source": [
    "Si esperas que el usuario escriba un entero, puedes intentar convertir el valor de retorno a ` int ` usando la función ` int() `:"
   ]
  },
  {
   "cell_type": "code",
   "execution_count": 34,
   "metadata": {},
   "outputs": [
    {
     "name": "stdout",
     "output_type": "stream",
     "text": [
      "¿Cuál es tu edad?31\n"
     ]
    },
    {
     "data": {
      "text/plain": [
       "36"
      ]
     },
     "execution_count": 34,
     "metadata": {},
     "output_type": "execute_result"
    }
   ],
   "source": [
    "edad = input('¿Cuál es tu edad?')\n",
    "int(edad) + 5"
   ]
  },
  {
   "cell_type": "markdown",
   "metadata": {},
   "source": [
    "## Comentarios\n",
    "Es buena idea añadir notas o comentarios a tus programas, a medida que el programa va creciendo vas a necesitar un mensaje de ti para ti, para que en un futuro entiendas que fué lo que hiciste en ese fragmento de código."
   ]
  },
  {
   "cell_type": "code",
   "execution_count": 35,
   "metadata": {},
   "outputs": [
    {
     "name": "stdout",
     "output_type": "stream",
     "text": [
      "121\n"
     ]
    }
   ],
   "source": [
    "# Se suma dos números y luego se calcula su exponencial al cuadrado\n",
    "x = 3\n",
    "y = 8\n",
    "resultado = (x+y)**2\n",
    "print(resultado)"
   ]
  },
  {
   "cell_type": "markdown",
   "metadata": {},
   "source": [
    "## Elección de nombres de variables nemotécnica\n",
    "Elegimos nombres de variables mnemónicos para ayudarnos a recordar por qué creamos las variables al principio."
   ]
  },
  {
   "cell_type": "code",
   "execution_count": 36,
   "metadata": {},
   "outputs": [
    {
     "name": "stdout",
     "output_type": "stream",
     "text": [
      "437.5\n",
      "437.5\n",
      "437.5\n"
     ]
    }
   ],
   "source": [
    "a = 35.0\n",
    "b = 12.50\n",
    "c = a * b\n",
    "print(c)\n",
    "\n",
    "horas = 35.0\n",
    "tarifa = 12.50\n",
    "salario = horas * tarifa\n",
    "print(salario)\n",
    "\n",
    "x1q3z9ahd = 35.0\n",
    "x1q3z9afd = 12.50\n",
    "x1q3p9afd = x1q3z9ahd * x1q3z9afd\n",
    "print(x1q3p9afd)"
   ]
  },
  {
   "cell_type": "markdown",
   "metadata": {},
   "source": [
    "----"
   ]
  },
  {
   "cell_type": "markdown",
   "metadata": {},
   "source": [
    "# Ejercicios"
   ]
  },
  {
   "cell_type": "markdown",
   "metadata": {},
   "source": [
    "### 1. Escribe un programa que use input para pedirle al usuario su nombre y luego darle la bienvenida."
   ]
  },
  {
   "cell_type": "code",
   "execution_count": null,
   "metadata": {},
   "outputs": [],
   "source": [
    "# Introduzca tu nombre: Chuck\n",
    "# Hola, Chuck\n",
    "#\n",
    "# Solución"
   ]
  },
  {
   "cell_type": "markdown",
   "metadata": {},
   "source": [
    "### 2. Escribe un programa para pedirle al usuario el número de horas y la tarifa por hora para calcular el salario bruto."
   ]
  },
  {
   "cell_type": "code",
   "execution_count": null,
   "metadata": {},
   "outputs": [],
   "source": [
    "# Introduzca Horas: 35\n",
    "# Introduzca Tarifa: 2.75\n",
    "# Salario: 96.25\n",
    "# \n",
    "# Solución:"
   ]
  },
  {
   "cell_type": "markdown",
   "metadata": {},
   "source": [
    "### 3. Asume que ejecutamos las siguientes sentencias de asignación:\n",
    "\n",
    "```\n",
    "ancho = 17\n",
    "alto = 12.0\n",
    "```\n",
    "Para cada una de las expresiones siguientes, escribe el valor de la expresión y el tipo (del valor de la expresión).\n",
    "\n",
    "1. `ancho/2`\n",
    "2. `ancho/2.0`\n",
    "3. `alto/3`\n",
    "4. `1 + 2 * 5`"
   ]
  },
  {
   "cell_type": "code",
   "execution_count": 38,
   "metadata": {},
   "outputs": [],
   "source": [
    "#Imprimir las 4 expresiones anteriores"
   ]
  },
  {
   "cell_type": "markdown",
   "metadata": {},
   "source": [
    "### 4. Escribe un programa que le pida al usuario una temperatura en grados Celsius, la convierta a grados Fahrenheit e imprima por pantalla la temperatura convertida.\n",
    "\n",
    "*Ecuación de conversión Celsius a Fahrenheit*\n",
    "\n",
    "$°F = (°C * \\displaystyle\\frac{9}{5}) + 32 $"
   ]
  },
  {
   "cell_type": "code",
   "execution_count": 39,
   "metadata": {},
   "outputs": [],
   "source": [
    "#  Escribe un programa que le pida al usuario una temperatura en grados Celsius, \n",
    "# la convierta a grados Fahrenheit e imprima por pantalla la temperatura convertida.\n",
    "#\n",
    "# Solución\n"
   ]
  },
  {
   "cell_type": "markdown",
   "metadata": {},
   "source": [
    "----\n",
    "# Referencia\n",
    "\n",
    "El notebook fué construido tomado del 2do capitulo del libro **Python para todos** de *Charles R. Severance*\n",
    "\n"
   ]
  },
  {
   "cell_type": "code",
   "execution_count": null,
   "metadata": {},
   "outputs": [],
   "source": []
  }
 ],
 "metadata": {
  "kernelspec": {
   "display_name": "Python 3",
   "language": "python",
   "name": "python3"
  },
  "language_info": {
   "codemirror_mode": {
    "name": "ipython",
    "version": 3
   },
   "file_extension": ".py",
   "mimetype": "text/x-python",
   "name": "python",
   "nbconvert_exporter": "python",
   "pygments_lexer": "ipython3",
   "version": "3.7.3"
  }
 },
 "nbformat": 4,
 "nbformat_minor": 2
}
